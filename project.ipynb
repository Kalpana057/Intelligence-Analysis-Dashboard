{
 "cells": [
  {
   "cell_type": "code",
   "execution_count": 19,
   "metadata": {},
   "outputs": [],
   "source": [
    "import os\n",
    "import re\n",
    "import fitz  # PyMuPDF\n",
    "import json\n",
    "\n",
    "# To get the full path to the PDF file\n",
    "path = os.path.join(os.getcwd(), \"hcidata.pdf\")\n",
    "pdf = fitz.open(path)\n",
    "\n",
    "all_reports = []\n",
    "\n",
    "for page_num in range(len(pdf)):\n",
    "    page = pdf[page_num]\n",
    "    page_text = page.get_text(\"text\")\n",
    "    \n",
    "    pattern = r\"(REPORT\\nID: \\w+_\\d+)\"\n",
    "    reports = re.split(pattern, page_text)\n",
    "    reports = reports[1:]  # Skip the first match which is always an empty string\n",
    "\n",
    "    for report in zip(reports[0::2], reports[1::2]):\n",
    "        details = {}\n",
    "        details['report_id'] = re.search(r\"ID: (.+)\", report[0]).group(1).strip()\n",
    "        details['report_date'] = re.search(r\"REPORTDATE: (.+)\", report[1]).group(1).strip()\n",
    "        # Extract report_description in multiple lines\n",
    "        details['report_description'] = re.findall(r\"REPORTDESCRIPTION: ([\\s\\S]+?)(?=PERSONS:|$)\", report[1])\n",
    "        details['persons'] = re.findall(r\"PERSONS: ([\\s\\S]+?)(?=DATES:|$)\", report[1])\n",
    "        details['dates'] = re.findall(r\"DATES: ([\\s\\S]+?)(?=PLACES:|$)\", report[1])\n",
    "        details['places'] = re.findall(r\"PLACES: ([\\s\\S]+?)(?=ORGANIZATIONS:|$)\", report[1])\n",
    "        details['organizations'] = re.findall(r\"ORGANIZATIONS: ([\\s\\S]+?)(?=\\n\\n|$)\", report[1])\n",
    "        all_reports.append(details)\n",
    "\n",
    "# Close the PDF after processing\n",
    "pdf.close()\n",
    "\n",
    "\n",
    "# Save the extracted report details to a JSON file\n",
    "output_file = \"processed_data.json\"\n",
    "with open(output_file, \"w\") as json_file:\n",
    "    json.dump(all_reports, json_file, indent=4)"
   ]
  },
  {
   "cell_type": "code",
   "execution_count": null,
   "metadata": {},
   "outputs": [],
   "source": []
  }
 ],
 "metadata": {
  "kernelspec": {
   "display_name": "Python 3",
   "language": "python",
   "name": "python3"
  },
  "language_info": {
   "codemirror_mode": {
    "name": "ipython",
    "version": 3
   },
   "file_extension": ".py",
   "mimetype": "text/x-python",
   "name": "python",
   "nbconvert_exporter": "python",
   "pygments_lexer": "ipython3",
   "version": "3.11.2"
  }
 },
 "nbformat": 4,
 "nbformat_minor": 2
}
